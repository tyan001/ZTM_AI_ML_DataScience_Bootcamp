{
 "cells": [
  {
   "cell_type": "code",
   "execution_count": 1,
   "id": "385ebc82",
   "metadata": {},
   "outputs": [],
   "source": [
    "import pandas as pd\n",
    "import numpy as np\n",
    "from sklearn.model_selection import train_test_split\n",
    "RANDOM_SEED = 42"
   ]
  },
  {
   "cell_type": "markdown",
   "id": "da97b19f",
   "metadata": {},
   "source": [
    "### 4.2.3 Finally using the `scoring` parameter"
   ]
  },
  {
   "cell_type": "code",
   "execution_count": 2,
   "id": "7e7a2127",
   "metadata": {},
   "outputs": [],
   "source": [
    "heart_disease = pd.read_csv(\"../ztm-ml/data/heart-disease.csv\")\n",
    "heart_disease.head()\n",
    "np.random.seed(42)\n",
    "x = heart_disease.drop(\"target\", axis=1)\n",
    "y = heart_disease[\"target\"]"
   ]
  },
  {
   "cell_type": "code",
   "execution_count": 3,
   "id": "b25a373e",
   "metadata": {},
   "outputs": [
    {
     "data": {
      "text/plain": [
       "array([0.81967213, 0.8852459 , 0.83606557, 0.85      , 0.8       ])"
      ]
     },
     "execution_count": 3,
     "metadata": {},
     "output_type": "execute_result"
    }
   ],
   "source": [
    "from sklearn.ensemble import RandomForestClassifier\n",
    "from sklearn.model_selection import cross_val_score\n",
    "\n",
    "np.random.seed(RANDOM_SEED)\n",
    "clf = RandomForestClassifier(random_state=RANDOM_SEED)\n",
    "\n",
    "cv = cross_val_score(clf, x, y, cv=5, scoring=None)\n",
    "cv"
   ]
  },
  {
   "cell_type": "code",
   "execution_count": 4,
   "id": "2b304718",
   "metadata": {},
   "outputs": [
    {
     "name": "stdout",
     "output_type": "stream",
     "text": [
      "Defaults scorers of model is of accuracy which was : 83.82%\n"
     ]
    }
   ],
   "source": [
    "print(f'Defaults scorers of model is of accuracy which was :{cv.mean() * 100: .2f}%')"
   ]
  },
  {
   "cell_type": "code",
   "execution_count": 5,
   "id": "6a0b9f0e",
   "metadata": {},
   "outputs": [
    {
     "name": "stdout",
     "output_type": "stream",
     "text": [
      "The output of the model is this list:[0.82352941 0.90625    0.84848485 0.875      0.78378378]\n",
      "And the mean of precision is :  84.74%\n"
     ]
    }
   ],
   "source": [
    "np.random.seed(42)\n",
    "cv_precision = cross_val_score(clf, x, y, cv=5, scoring='precision')\n",
    "print(f'The output of the model is this list:{cv_precision}\\nAnd the mean of precision is : {cv_precision.mean() * 100: .2f}%')"
   ]
  },
  {
   "cell_type": "code",
   "execution_count": 6,
   "id": "6fbf3080",
   "metadata": {},
   "outputs": [
    {
     "name": "stdout",
     "output_type": "stream",
     "text": [
      "The output of the model is this list:[0.84848485 0.87878788 0.84848485 0.84848485 0.87878788]\n",
      "And the mean of recall is :  86.06%\n"
     ]
    }
   ],
   "source": [
    "np.random.seed(42)\n",
    "cv_recall = cross_val_score(clf, x, y, cv=5, scoring='recall')\n",
    "print(f'The output of the model is this list:{cv_recall}\\nAnd the mean of recall is : {cv_recall.mean() * 100: .2f}%')"
   ]
  },
  {
   "cell_type": "code",
   "execution_count": 7,
   "id": "8487c328",
   "metadata": {},
   "outputs": [
    {
     "name": "stdout",
     "output_type": "stream",
     "text": [
      "The output of the model is this list:[0.81709957 0.88582251 0.83495671 0.85016835 0.79124579]\n",
      "And the mean of balanced_accuracy is :  83.59%\n"
     ]
    }
   ],
   "source": [
    "np.random.seed(42)\n",
    "cv_balanced_accuracy = cross_val_score(clf, x, y, cv=5, scoring='balanced_accuracy')\n",
    "print(f'The output of the model is this list:{cv_balanced_accuracy}\\nAnd the mean of balanced_accuracy is : {cv_balanced_accuracy.mean() * 100: .2f}%')"
   ]
  },
  {
   "cell_type": "code",
   "execution_count": 8,
   "id": "9e9f28e1",
   "metadata": {},
   "outputs": [],
   "source": [
    "from sklearn.datasets import fetch_california_housing\n",
    "from sklearn.ensemble import RandomForestRegressor\n",
    "np.random.seed(RANDOM_SEED)\n",
    "house_data = fetch_california_housing(as_frame=True)\n",
    "house_df = house_data.frame\n",
    "house_df\n",
    "\n",
    "x = house_df.drop(columns=[\"MedHouseVal\"], axis=1)\n",
    "y = house_df[\"MedHouseVal\"]\n",
    "\n"
   ]
  },
  {
   "cell_type": "code",
   "execution_count": 9,
   "id": "90a354f6",
   "metadata": {},
   "outputs": [
    {
     "name": "stdout",
     "output_type": "stream",
     "text": [
      "Defaults scorers of model is of R^2 which was : 0.66\n"
     ]
    }
   ],
   "source": [
    "clf = RandomForestRegressor(random_state=RANDOM_SEED)\n",
    "\n",
    "cv = cross_val_score(clf, x, y, cv=5)\n",
    "print(f'Defaults scorers of model is of R^2 which was :{cv.mean(): .2f}')"
   ]
  },
  {
   "cell_type": "code",
   "execution_count": 10,
   "id": "8e8654d5",
   "metadata": {},
   "outputs": [
    {
     "name": "stdout",
     "output_type": "stream",
     "text": [
      "The output of the model is this list:[-0.54255936 -0.40837256 -0.43759288 -0.46156845 -0.47328217]\n",
      "And the mean of MAE is : -0.46\n"
     ]
    }
   ],
   "source": [
    "cv_mae = cross_val_score(clf, x, y, cv=5, scoring='neg_mean_absolute_error')\n",
    "print(f'The output of the model is this list:{cv_mae}\\nAnd the mean of MAE is : {cv_mae.mean(): .2f}')"
   ]
  },
  {
   "cell_type": "code",
   "execution_count": 11,
   "id": "24d6bb4e",
   "metadata": {},
   "outputs": [
    {
     "name": "stdout",
     "output_type": "stream",
     "text": [
      "The output of the model is this list:[-0.51906307 -0.3460998  -0.37092894 -0.42819009 -0.46302709]\n",
      "And the mean of MSE is : -0.43\n"
     ]
    }
   ],
   "source": [
    "cv_mse = cross_val_score(clf, x, y, cv=5, scoring='neg_mean_squared_error')\n",
    "print(f'The output of the model is this list:{cv_mse}\\nAnd the mean of MSE is : {cv_mse.mean(): .2f}')"
   ]
  },
  {
   "cell_type": "markdown",
   "id": "4b8494e0",
   "metadata": {},
   "source": [
    "## 4.3 Using different evaluation metrics as Scikit-Learn functions\n",
    "\n",
    "The 3rd way to evaluate scikit-learn machine learning models/estimators is to using the `sklearn.metrics` module - https://scikit-learn.org/stable/modules/classes.html#module-sklearn.metrics"
   ]
  },
  {
   "cell_type": "code",
   "execution_count": 16,
   "id": "0ad8f62a",
   "metadata": {},
   "outputs": [],
   "source": [
    "from sklearn.metrics import accuracy_score, precision_score, recall_score, f1_score\n",
    "from sklearn.ensemble import RandomForestClassifier\n",
    "from sklearn.model_selection import train_test_split\n",
    "\n",
    "np.random.seed(RANDOM_SEED)\n",
    "\n",
    "# Create x & y\n",
    "x = heart_disease.drop(\"target\", axis=1)\n",
    "y= heart_disease[\"target\"]\n",
    "\n",
    "# Split data\n",
    "x_train, x_test, y_train, y_test = train_test_split(x, y, test_size=0.2, random_state=RANDOM_SEED)\n",
    "# Create model\n",
    "clf = RandomForestClassifier(random_state=RANDOM_SEED)\n",
    "# Fit the model\n",
    "clf.fit(x_train, y_train)\n",
    "# Evaluate the model using evaluation functions\n",
    "accuracy = accuracy_score(y_test, clf.predict(x_test))\n",
    "precision = precision_score(y_test, clf.predict(x_test))\n",
    "recall = recall_score(y_test, clf.predict(x_test))\n",
    "f1 = f1_score(y_test, clf.predict(x_test))"
   ]
  },
  {
   "cell_type": "code",
   "execution_count": 17,
   "id": "6142599c",
   "metadata": {},
   "outputs": [
    {
     "name": "stdout",
     "output_type": "stream",
     "text": [
      "Accuracy:  83.61%\n",
      "Precision:  84.38%\n",
      "Recall:  84.38%\n",
      "F1 score:  84.38%\n"
     ]
    }
   ],
   "source": [
    "print(f'Accuracy: {accuracy * 100: .2f}%')\n",
    "print(f'Precision: {precision * 100: .2f}%')\n",
    "print(f'Recall: {recall * 100: .2f}%')\n",
    "print(f'F1 score: {f1 * 100: .2f}%')"
   ]
  },
  {
   "cell_type": "code",
   "execution_count": 18,
   "id": "e3851957",
   "metadata": {},
   "outputs": [],
   "source": [
    "from sklearn.metrics import r2_score, mean_absolute_error, mean_squared_error\n",
    "from sklearn.ensemble import RandomForestRegressor\n",
    "from sklearn.model_selection import train_test_split\n",
    "\n",
    "np.random.seed(RANDOM_SEED)\n",
    "\n",
    "# Create x & y\n",
    "x = house_df.drop(columns=[\"MedHouseVal\"], axis=1)\n",
    "y= house_df[\"MedHouseVal\"]\n",
    "\n",
    "# Split data\n",
    "x_train, x_test, y_train, y_test = train_test_split(x, y, test_size=0.2, random_state=RANDOM_SEED)\n",
    "# Create model\n",
    "clf = RandomForestRegressor(random_state=RANDOM_SEED)\n",
    "# Fit the model\n",
    "clf.fit(x_train, y_train)\n",
    "# Evaluate the model using evaluation functions\n",
    "r2 = r2_score(y_test, clf.predict(x_test))\n",
    "mae = mean_absolute_error(y_test, clf.predict(x_test))\n",
    "mse = mean_squared_error(y_test, clf.predict(x_test))"
   ]
  },
  {
   "cell_type": "code",
   "execution_count": 19,
   "id": "83d3eb87",
   "metadata": {},
   "outputs": [
    {
     "name": "stdout",
     "output_type": "stream",
     "text": [
      "r2:  80.51%\n",
      "mae:  32.75%\n",
      "mse:  25.54%\n"
     ]
    }
   ],
   "source": [
    "print(f'r2: {r2 * 100: .2f}%')\n",
    "print(f'mae: {mae * 100: .2f}%')\n",
    "print(f'mse: {mse * 100: .2f}%')  "
   ]
  },
  {
   "cell_type": "code",
   "execution_count": null,
   "id": "617febe1",
   "metadata": {},
   "outputs": [],
   "source": []
  }
 ],
 "metadata": {
  "kernelspec": {
   "display_name": "base",
   "language": "python",
   "name": "python3"
  },
  "language_info": {
   "codemirror_mode": {
    "name": "ipython",
    "version": 3
   },
   "file_extension": ".py",
   "mimetype": "text/x-python",
   "name": "python",
   "nbconvert_exporter": "python",
   "pygments_lexer": "ipython3",
   "version": "3.13.5"
  }
 },
 "nbformat": 4,
 "nbformat_minor": 5
}
