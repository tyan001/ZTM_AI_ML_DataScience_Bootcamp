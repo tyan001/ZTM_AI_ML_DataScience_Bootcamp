{
 "cells": [
  {
   "cell_type": "markdown",
   "id": "5f684e91",
   "metadata": {},
   "source": [
    "Steps we want to do (all in one cell):\n",
    "1. Fill missing data\n",
    "2. Convert data to numbers\n",
    "3. Build a model on the data"
   ]
  },
  {
   "cell_type": "code",
   "execution_count": 19,
   "id": "b85cc92d",
   "metadata": {},
   "outputs": [
    {
     "data": {
      "text/plain": [
       "0.30965461004684325"
      ]
     },
     "execution_count": 19,
     "metadata": {},
     "output_type": "execute_result"
    }
   ],
   "source": [
    "# Pre-processing imports\n",
    "from sklearn.compose import ColumnTransformer\n",
    "from sklearn.pipeline import Pipeline\n",
    "from sklearn.impute import SimpleImputer\n",
    "from sklearn.preprocessing import OneHotEncoder\n",
    "\n",
    "# Modeling imports\n",
    "from sklearn.model_selection import train_test_split\n",
    "from sklearn.ensemble import RandomForestRegressor\n",
    "from sklearn.model_selection import RandomizedSearchCV, GridSearchCV\n",
    "\n",
    "# Setup random seed\n",
    "import numpy as np\n",
    "RANDOM_SEED = 42\n",
    "\n",
    "data = pd.read_csv(\"../ztm-ml/data/car-sales-extended-missing-data.csv\")\n",
    "# Remove rows with no target price value as we cannot train a model without price\n",
    "data.dropna(subset=[\"Price\"], inplace=True)\n",
    "\n",
    "categorical_features = [\"Make\", \"Colour\"]\n",
    "categorical_transformer = Pipeline(steps=[\n",
    "    (\"imputer\", SimpleImputer(strategy=\"constant\", fill_value=\"missing\")),\n",
    "    (\"onehot\", OneHotEncoder(handle_unknown=\"ignore\"))\n",
    "])\n",
    "\n",
    "door_features = [\"Doors\"]\n",
    "door_transformer = Pipeline(steps=[\n",
    "    (\"imputer\", SimpleImputer(strategy=\"constant\", fill_value=4))\n",
    "])\n",
    "\n",
    "numerical_features = [\"Odometer (KM)\"]\n",
    "numerical_transformer = Pipeline(steps=[\n",
    "    (\"imputer\", SimpleImputer(strategy=\"mean\"))\n",
    "])\n",
    "\n",
    "# Setup preprocessing steps (fill missing values, then convert to numbers)\n",
    "preprocessor = ColumnTransformer(\n",
    "    transformers=[\n",
    "        (\"categorical\", categorical_transformer, categorical_features),\n",
    "        (\"door\", door_transformer, door_features),\n",
    "        (\"numerical\", numerical_transformer, numerical_features)\n",
    "])  \n",
    "\n",
    "# Create a preprocessing and modeling pipeline\n",
    "model = Pipeline(steps=[\n",
    "    (\"preprocessor\", preprocessor),\n",
    "    (\"model\", RandomForestRegressor(random_state=RANDOM_SEED))\n",
    "])\n",
    "\n",
    "x = data.drop(\"Price\", axis=1)\n",
    "y = data[\"Price\"]\n",
    "x_train, x_test, y_train, y_test = train_test_split(x, y, test_size=0.2)\n",
    "model.fit(x_train, y_train)\n",
    "model.score(x_test, y_test)"
   ]
  },
  {
   "cell_type": "markdown",
   "id": "142bb499",
   "metadata": {},
   "source": [
    "It's also possible to use GridSearchCV and RandomizedSearchCV within a Pipeline.\n",
    "\n",
    "```\n",
    "grid = {\n",
    "    'n_estimators': [100, 200, 500],\n",
    "    'max_depth': [None, 5, 20],\n",
    "    'max_features': ['log2', 'sqrt'],\n",
    "    'min_samples_split': [2, 6],\n",
    "    'min_samples_leaf': [1, 2]\n",
    "}\n",
    "```"
   ]
  },
  {
   "cell_type": "code",
   "execution_count": 21,
   "id": "46315316",
   "metadata": {},
   "outputs": [],
   "source": [
    "# Use GridSearchCV or RandomizedSearchCV with our Pipeline\n",
    "from sklearn.model_selection import RandomizedSearchCV, GridSearchCV\n",
    "\n",
    "pipe_grid = {\n",
    "    \"preprocessor__numerical__imputer__strategy\": [\"mean\", \"median\"],\n",
    "    \"model__n_estimators\": [100, 200],\n",
    "    \"model__max_depth\": [None, 5],\n",
    "    \"model__max_features\": ['log2', 'sqrt'],\n",
    "    \"model__min_samples_split\": [2, 6],\n",
    "    \"model__min_samples_leaf\": [1, 2]\n",
    "}"
   ]
  },
  {
   "cell_type": "code",
   "execution_count": null,
   "id": "f147d91a",
   "metadata": {},
   "outputs": [
    {
     "name": "stdout",
     "output_type": "stream",
     "text": [
      "Fitting 5 folds for each of 64 candidates, totalling 320 fits\n"
     ]
    }
   ],
   "source": [
    "gs_model = GridSearchCV(model,\n",
    "                        pipe_grid,\n",
    "                        cv=5,\n",
    "                        n_jobs=-1,\n",
    "                        verbose=True)\n",
    "gs_model.fit(x_train, y_train)"
   ]
  },
  {
   "cell_type": "code",
   "execution_count": 23,
   "id": "d4979f13",
   "metadata": {},
   "outputs": [
    {
     "data": {
      "text/plain": [
       "{'model__max_depth': 5,\n",
       " 'model__max_features': 'log2',\n",
       " 'model__min_samples_leaf': 1,\n",
       " 'model__min_samples_split': 2,\n",
       " 'model__n_estimators': 200,\n",
       " 'preprocessor__numerical__imputer__strategy': 'median'}"
      ]
     },
     "execution_count": 23,
     "metadata": {},
     "output_type": "execute_result"
    }
   ],
   "source": [
    "gs_model.best_params_"
   ]
  },
  {
   "cell_type": "code",
   "execution_count": 24,
   "id": "2c3ebbaf",
   "metadata": {},
   "outputs": [
    {
     "data": {
      "text/plain": [
       "0.34324874813056194"
      ]
     },
     "execution_count": 24,
     "metadata": {},
     "output_type": "execute_result"
    }
   ],
   "source": [
    "gs_model.score(x_test, y_test)"
   ]
  },
  {
   "cell_type": "code",
   "execution_count": null,
   "id": "68e8dd27",
   "metadata": {},
   "outputs": [],
   "source": []
  },
  {
   "cell_type": "code",
   "execution_count": null,
   "id": "35f734cc",
   "metadata": {},
   "outputs": [],
   "source": []
  },
  {
   "cell_type": "code",
   "execution_count": null,
   "id": "442510cf",
   "metadata": {},
   "outputs": [],
   "source": []
  },
  {
   "cell_type": "code",
   "execution_count": null,
   "id": "8a98e785",
   "metadata": {},
   "outputs": [],
   "source": []
  },
  {
   "cell_type": "code",
   "execution_count": null,
   "id": "4c49aa16",
   "metadata": {},
   "outputs": [],
   "source": [
    "# # Fill missing values with Scikit-learn\n",
    "# from sklearn.impute import SimpleImputer\n",
    "# from sklearn.compose import ColumnTransformer\n",
    "\n",
    "# # Fill categorical values with \"missing\" and numerical values with mean\n",
    "# cat_imputer = SimpleImputer(strategy=\"constant\", fill_value=\"missing\")\n",
    "# door_imputer = SimpleImputer(strategy=\"constant\", fill_value=4)\n",
    "# num_imputer = SimpleImputer(strategy=\"mean\")\n",
    "\n",
    "# # Define columns\n",
    "# cat_features = [\"Make\", \"Colour\"]\n",
    "# door_feature = [\"Doors\"]\n",
    "# num_features = [\"Odometer (KM)\"]\n",
    "\n",
    "# # Create an imputer (something that fills missing data)\n",
    "# imputer = ColumnTransformer([\n",
    "#     (\"cat_imputer\", cat_imputer, cat_features),\n",
    "#     (\"door_imputer\", door_imputer, door_feature),\n",
    "#     (\"num_imputer\", num_imputer, num_features)\n",
    "# ])"
   ]
  }
 ],
 "metadata": {
  "kernelspec": {
   "display_name": "base",
   "language": "python",
   "name": "python3"
  },
  "language_info": {
   "codemirror_mode": {
    "name": "ipython",
    "version": 3
   },
   "file_extension": ".py",
   "mimetype": "text/x-python",
   "name": "python",
   "nbconvert_exporter": "python",
   "pygments_lexer": "ipython3",
   "version": "3.13.5"
  }
 },
 "nbformat": 4,
 "nbformat_minor": 5
}
