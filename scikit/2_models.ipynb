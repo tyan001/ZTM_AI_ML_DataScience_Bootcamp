{
 "cells": [
  {
   "cell_type": "markdown",
   "id": "73674d5c",
   "metadata": {},
   "source": [
    "## 2 Choosing the right algorithm for the problem\n",
    "\n",
    "Some things to note\n",
    "* sklearn refers to ML models, algorimth as estimators\n",
    "* Classification problem - predicting a category\n",
    "  * clf (short for classifier) is used to refer to classification algorithms\n",
    "* Regression problem - predicting a number"
   ]
  },
  {
   "cell_type": "markdown",
   "id": "e8aa5a58",
   "metadata": {},
   "source": [
    "### 2.1 Picking a machine learning model for a regression problem.\n",
    "\n",
    "Using California housing dataset as an example."
   ]
  },
  {
   "cell_type": "code",
   "execution_count": null,
   "id": "1025ff03",
   "metadata": {},
   "outputs": [],
   "source": [
    "from sklearn.datasets import fetch_california_housing\n",
    "from sklearn.model_selection import train_test_split\n",
    "import pandas as pd\n",
    "import numpy as np"
   ]
  },
  {
   "cell_type": "code",
   "execution_count": null,
   "id": "f56b2b20",
   "metadata": {},
   "outputs": [],
   "source": [
    "housing = fetch_california_housing()\n",
    "housing"
   ]
  },
  {
   "cell_type": "code",
   "execution_count": null,
   "id": "806b08ef",
   "metadata": {},
   "outputs": [],
   "source": [
    "housing_df = pd.DataFrame(data=housing.data, columns=housing.feature_names)\n",
    "housing_df[\"target\"] = housing.target # Median House Value"
   ]
  },
  {
   "cell_type": "code",
   "execution_count": null,
   "id": "b418c437",
   "metadata": {},
   "outputs": [],
   "source": [
    "housing_df.head()"
   ]
  },
  {
   "cell_type": "code",
   "execution_count": null,
   "id": "ab0b1084",
   "metadata": {},
   "outputs": [],
   "source": [
    "np.random.seed(42)\n",
    "x = housing_df.drop(\"target\", axis=1)\n",
    "y = housing_df[\"target\"]\n",
    "\n",
    "x_train, x_test, y_train, y_test = train_test_split(\n",
    "    x, y, test_size=0.2\n",
    ")\n",
    "\n",
    "x_train.shape, x_test.shape, y_train.shape, y_test.shape"
   ]
  },
  {
   "cell_type": "code",
   "execution_count": null,
   "id": "91d02f81",
   "metadata": {},
   "outputs": [],
   "source": [
    "from sklearn.linear_model import Ridge\n",
    "\n",
    "model = Ridge()\n",
    "model.fit(x_train, y_train)\n",
    "model.score(x_test, y_test)"
   ]
  },
  {
   "cell_type": "code",
   "execution_count": null,
   "id": "28c64f1c",
   "metadata": {},
   "outputs": [],
   "source": [
    "from sklearn.linear_model import ElasticNet\n",
    "\n",
    "model = ElasticNet()\n",
    "model.fit(x_train, y_train)\n",
    "model.score(x_test, y_test)"
   ]
  },
  {
   "cell_type": "code",
   "execution_count": null,
   "id": "646152bc",
   "metadata": {},
   "outputs": [],
   "source": [
    "from sklearn.linear_model import Lasso\n",
    "\n",
    "model = Lasso()\n",
    "model.fit(x_train, y_train)\n",
    "model.score(x_test, y_test)"
   ]
  },
  {
   "cell_type": "code",
   "execution_count": null,
   "id": "7bbb1c7d",
   "metadata": {},
   "outputs": [],
   "source": [
    "# from sklearn.svm import SVR\n",
    "\n",
    "# model = SVR(kernel=\"linear\")\n",
    "# model.fit(x_train, y_train)\n",
    "# model.score(x_test, y_test)"
   ]
  },
  {
   "cell_type": "code",
   "execution_count": null,
   "id": "d41e2803",
   "metadata": {},
   "outputs": [],
   "source": [
    "# from sklearn.svm import SVR\n",
    "\n",
    "# model = SVR(kernel=\"rbf\")\n",
    "# model.fit(x_train, y_train)\n",
    "# model.score(x_test, y_test)"
   ]
  },
  {
   "cell_type": "code",
   "execution_count": null,
   "id": "493571fd",
   "metadata": {},
   "outputs": [],
   "source": [
    "from sklearn.ensemble import RandomForestRegressor\n",
    "\n",
    "model = RandomForestRegressor()\n",
    "model.fit(x_train, y_train)\n",
    "model.score(x_test, y_test)"
   ]
  },
  {
   "cell_type": "markdown",
   "id": "a2845f80",
   "metadata": {},
   "source": [
    "### 2.2 Picking a machine learning model for a classification problem.\n",
    "\n",
    "Using California housing dataset as an example."
   ]
  },
  {
   "cell_type": "code",
   "execution_count": null,
   "id": "486d81e5",
   "metadata": {},
   "outputs": [],
   "source": [
    "heart_disease = pd.read_csv(\"../ztm-ml/data/heart-disease.csv\")\n",
    "heart_disease.head()"
   ]
  },
  {
   "cell_type": "code",
   "execution_count": null,
   "id": "ea7c15b6",
   "metadata": {},
   "outputs": [],
   "source": [
    "np.random.seed(42)\n",
    "x = heart_disease.drop(\"target\", axis=1)\n",
    "y = heart_disease[\"target\"]\n",
    "\n",
    "x_train, x_test, y_train, y_test = train_test_split(\n",
    "    x, y, test_size=0.2\n",
    ")"
   ]
  },
  {
   "cell_type": "code",
   "execution_count": null,
   "id": "ecbc273f",
   "metadata": {},
   "outputs": [],
   "source": [
    "from sklearn.svm import LinearSVC\n",
    "\n",
    "model = LinearSVC()\n",
    "model.fit(x_train, y_train)\n",
    "model.score(x_test, y_test)"
   ]
  },
  {
   "cell_type": "code",
   "execution_count": null,
   "id": "b171dd71",
   "metadata": {},
   "outputs": [],
   "source": [
    "from sklearn.neighbors import KNeighborsClassifier\n",
    "\n",
    "model = KNeighborsClassifier(n_neighbors=10)\n",
    "model.fit(x_train, y_train)\n",
    "model.score(x_test, y_test)"
   ]
  },
  {
   "cell_type": "code",
   "execution_count": null,
   "id": "57725301",
   "metadata": {},
   "outputs": [],
   "source": [
    "from sklearn.ensemble import RandomForestClassifier\n",
    "\n",
    "model = RandomForestClassifier(n_estimators=50)\n",
    "model.fit(x_train, y_train)\n",
    "model.score(x_test, y_test)"
   ]
  },
  {
   "cell_type": "code",
   "execution_count": null,
   "id": "3722666b",
   "metadata": {},
   "outputs": [],
   "source": [
    "model.feature_importances_\n",
    "\n",
    "importances = pd.DataFrame(\n",
    "    {\"feature\": x_train.columns, \"importance\": model.feature_importances_}\n",
    ")\n",
    "importances = importances.sort_values(by=\"importance\", ascending=False)"
   ]
  },
  {
   "cell_type": "markdown",
   "id": "061c4cbd",
   "metadata": {},
   "source": [
    "### Random Forest model deep dive\n",
    "\n",
    "These resources will help you understand what's happening inside the Random Forest models we've been using.\n",
    "\n",
    "* [Random Forest Wikipedia](https://en.wikipedia.org/wiki/Random_forest)\n",
    "* [Random Forest Wikipedia (simple version)](https://simple.wikipedia.org/wiki/Random_forest)\n",
    "* [Random Forests in Python](http://blog.yhat.com/posts/random-forests-in-python.html) by yhat\n",
    "* [An Implementation and Explanation of the Random Forest in Python](https://towardsdatascience.com/an-implementation-and-explanation-of-the-random-forest-in-python-77bf308a9b76) by Will Koehrsen"
   ]
  },
  {
   "cell_type": "markdown",
   "id": "d6b30401",
   "metadata": {},
   "source": [
    "## 3. Fitting a model/algorithm and making predictions\n",
    "\n",
    "### 3.1 Fitting a model to the data\n",
    "* `x` - features, inputs, independent variables, data\n",
    "* `y` - labels, targets, dependent variables, answers"
   ]
  },
  {
   "cell_type": "code",
   "execution_count": null,
   "id": "240715a0",
   "metadata": {},
   "outputs": [],
   "source": [
    "heart_disease = pd.read_csv(\"../ztm-ml/data/heart-disease.csv\")\n",
    "heart_disease.head()"
   ]
  },
  {
   "cell_type": "code",
   "execution_count": null,
   "id": "6a43256e",
   "metadata": {},
   "outputs": [],
   "source": [
    "np.random.seed(42)\n",
    "x = heart_disease.drop(\"target\", axis=1)\n",
    "y = heart_disease[\"target\"]\n",
    "\n",
    "x_train, x_test, y_train, y_test = train_test_split(\n",
    "    x, y, test_size=0.2\n",
    ")\n",
    "\n",
    "# Model\n",
    "clf = RandomForestClassifier(n_estimators=100)\n",
    "\n",
    "# Fit the model to the data\n",
    "clf.fit(x_train, y_train)\n",
    "\n",
    "# Evaluate the model\n",
    "clf.score(x_test, y_test)"
   ]
  },
  {
   "cell_type": "markdown",
   "id": "01ce19d7",
   "metadata": {},
   "source": [
    "### 3.2 Making predictions using a machine learning model\n",
    "\n",
    "2 ways to make predictions\n",
    "1. `predict()` - predicts a label (classification) or a value (regression)\n",
    "2. `predict_proba()` - predicts probability of a classification label"
   ]
  },
  {
   "cell_type": "code",
   "execution_count": null,
   "id": "2549dc34",
   "metadata": {},
   "outputs": [],
   "source": [
    "y_pred=clf.predict(x_test)"
   ]
  },
  {
   "cell_type": "code",
   "execution_count": null,
   "id": "59d74959",
   "metadata": {},
   "outputs": [],
   "source": [
    "np.mean(y_pred == y_test), clf.score(x_test, y_test)"
   ]
  },
  {
   "cell_type": "code",
   "execution_count": null,
   "id": "5fb4260b",
   "metadata": {},
   "outputs": [],
   "source": [
    "from sklearn.metrics import classification_report, confusion_matrix, accuracy_score\n",
    "\n",
    "accuracy_score(y_test, y_pred)"
   ]
  },
  {
   "cell_type": "code",
   "execution_count": null,
   "id": "ed18b68b",
   "metadata": {},
   "outputs": [],
   "source": [
    "print(classification_report(y_test, y_pred))"
   ]
  },
  {
   "cell_type": "code",
   "execution_count": null,
   "id": "f314bf38",
   "metadata": {},
   "outputs": [],
   "source": [
    "confusion_matrix(y_test, y_pred)"
   ]
  },
  {
   "cell_type": "markdown",
   "id": "5ea54ff9",
   "metadata": {},
   "source": [
    "#### predict_proba() returns a list of probabilities for each class the model is trained to predict."
   ]
  },
  {
   "cell_type": "code",
   "execution_count": null,
   "id": "c1d3573d",
   "metadata": {},
   "outputs": [],
   "source": [
    "y_pred_proba=clf.predict_proba(x_test)\n",
    "y_pred_proba[:5]"
   ]
  },
  {
   "cell_type": "markdown",
   "id": "ed6d7f8f",
   "metadata": {},
   "source": [
    "#### `predict()` on regression models"
   ]
  },
  {
   "cell_type": "code",
   "execution_count": null,
   "id": "6c00cde7",
   "metadata": {},
   "outputs": [],
   "source": [
    "housing_df = pd.DataFrame(data=housing.data, columns=housing.feature_names)\n",
    "housing_df[\"target\"] = housing.target # Median House Value"
   ]
  },
  {
   "cell_type": "code",
   "execution_count": null,
   "id": "69a53524",
   "metadata": {},
   "outputs": [],
   "source": [
    "np.random.seed(42)\n",
    "x = housing_df.drop(\"target\", axis=1)\n",
    "y = housing_df[\"target\"]\n",
    "\n",
    "x_train, x_test, y_train, y_test = train_test_split(\n",
    "    x, y, test_size=0.2\n",
    ")\n",
    "\n",
    "x_train.shape, x_test.shape, y_train.shape, y_test.shape"
   ]
  },
  {
   "cell_type": "code",
   "execution_count": null,
   "id": "d62eda36",
   "metadata": {},
   "outputs": [],
   "source": [
    "from sklearn.ensemble import RandomForestRegressor\n",
    "\n",
    "model = RandomForestRegressor()\n",
    "model.fit(x_train, y_train)\n",
    "model.score(x_test, y_test)"
   ]
  },
  {
   "cell_type": "code",
   "execution_count": null,
   "id": "c089e83f",
   "metadata": {},
   "outputs": [],
   "source": [
    "y_pred = model.predict(x_test)\n",
    "y_pred[:10]"
   ]
  },
  {
   "cell_type": "code",
   "execution_count": null,
   "id": "53fcc3d5",
   "metadata": {},
   "outputs": [],
   "source": [
    "pred_df = pd.DataFrame({\"Predicted\": y_pred, \"Actual\": y_test})"
   ]
  },
  {
   "cell_type": "code",
   "execution_count": null,
   "id": "35b338d9",
   "metadata": {},
   "outputs": [],
   "source": [
    "pred_df['difference'] = pred_df['Actual'] - pred_df['Predicted']"
   ]
  },
  {
   "cell_type": "code",
   "execution_count": null,
   "id": "372a740c",
   "metadata": {},
   "outputs": [],
   "source": [
    "pred_df['difference'].abs().mean()"
   ]
  },
  {
   "cell_type": "markdown",
   "id": "f9b34a73",
   "metadata": {},
   "source": [
    "## 4. Evaluating a machine learning model\n",
    "\n",
    "Three ways to evaluate Scikit-Learn models/estimators: \n",
    "\n",
    "1. Estimator's built-in `score()` method\n",
    "2. The `scoring` parameter\n",
    "3. Problem-specific metric functions\n",
    "    \n",
    "You can read more about these here: https://scikit-learn.org/stable/modules/model_evaluation.html "
   ]
  },
  {
   "cell_type": "code",
   "execution_count": null,
   "id": "340487a6",
   "metadata": {},
   "outputs": [],
   "source": [
    "from sklearn.ensemble import RandomForestClassifier\n",
    "\n",
    "np.random.seed(42)\n",
    "\n",
    "x = heart_disease.drop(\"target\", axis=1)\n",
    "y = heart_disease[\"target\"]\n",
    "\n",
    "x_train, x_test, y_train, y_test = train_test_split(\n",
    "    x, y, test_size=0.2\n",
    ")\n",
    "\n",
    "model = RandomForestClassifier()\n",
    "model.fit(x_train, y_train)\n",
    "model.score(x_test, y_test)"
   ]
  },
  {
   "cell_type": "code",
   "execution_count": null,
   "id": "6d33aa2e",
   "metadata": {},
   "outputs": [],
   "source": []
  }
 ],
 "metadata": {
  "kernelspec": {
   "display_name": "base",
   "language": "python",
   "name": "python3"
  },
  "language_info": {
   "codemirror_mode": {
    "name": "ipython",
    "version": 3
   },
   "file_extension": ".py",
   "mimetype": "text/x-python",
   "name": "python",
   "nbconvert_exporter": "python",
   "pygments_lexer": "ipython3",
   "version": "3.13.5"
  }
 },
 "nbformat": 4,
 "nbformat_minor": 5
}
