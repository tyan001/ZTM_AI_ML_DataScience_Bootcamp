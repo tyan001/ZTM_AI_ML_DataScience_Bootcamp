{
 "cells": [
  {
   "cell_type": "markdown",
   "id": "cc67ced8",
   "metadata": {},
   "source": [
    "# Introduction to Scikit-learn (sklearn)\n",
    "\n",
    "This notebook demonstrates some of the most useful functions of the beautifil Scikit-Learn library.\n",
    "\n",
    "What we are covering:\n",
    "\n",
    "0. end-to-end sklearn workflow\n",
    "1. Data Pre-Processing\n",
    "2. Choose the right algorithm for the problem\n",
    "3. Fit the model and use it to do predictions\n",
    "4. Evaluate model\n",
    "5. Improve model\n",
    "6. Save and load trained model\n",
    "7. Putting it all together"
   ]
  },
  {
   "cell_type": "markdown",
   "id": "566e4677",
   "metadata": {},
   "source": [
    "## 0. An end-to-end scikit-learn workflow"
   ]
  },
  {
   "cell_type": "code",
   "execution_count": null,
   "id": "8b040f06",
   "metadata": {},
   "outputs": [],
   "source": [
    "%load_ext cudf.pandas\n",
    "import pandas as pd\n",
    "import numpy as np\n",
    "import matplotlib.pyplot as plt\n",
    "%matplotlib inline"
   ]
  },
  {
   "cell_type": "markdown",
   "id": "8b5e0154",
   "metadata": {},
   "source": [
    "## 1. Data Pre-Processing\n",
    "\n",
    "Three main steps:\n",
    "1. Split the data into feaures and labels (usually `X` and `y`)\n",
    "2. Fill (also called impute) or remove missing values\n",
    "3. Convert non-numeric values to numeric values (also called feature encoding)"
   ]
  },
  {
   "cell_type": "code",
   "execution_count": null,
   "id": "7275058b",
   "metadata": {},
   "outputs": [],
   "source": [
    "heart_disease = pd.read_csv(\"/home/rapids/workspace/ML_Course/ztm-ml/data/heart-disease.csv\")\n",
    "heart_disease"
   ]
  },
  {
   "cell_type": "code",
   "execution_count": null,
   "id": "36fe6d2f",
   "metadata": {},
   "outputs": [],
   "source": [
    "X = heart_disease.drop(\"target\", axis=1)\n",
    "y = heart_disease[\"target\"]"
   ]
  },
  {
   "cell_type": "code",
   "execution_count": null,
   "id": "b0277a65",
   "metadata": {},
   "outputs": [],
   "source": [
    "# Split the data into training and test sets\n",
    "from sklearn.model_selection import train_test_split\n",
    "\n",
    "X_train, X_test, y_train, y_test = train_test_split(X, y, test_size=0.2, random_state=42)"
   ]
  },
  {
   "cell_type": "code",
   "execution_count": null,
   "id": "a36f09c5",
   "metadata": {},
   "outputs": [],
   "source": [
    "X_train.info()"
   ]
  },
  {
   "cell_type": "code",
   "execution_count": null,
   "id": "ec17b04c",
   "metadata": {},
   "outputs": [],
   "source": [
    "car_sales = pd.read_csv('/home/rapids/workspace/ML_Course/ztm-ml/data/car-sales-extended.csv')"
   ]
  },
  {
   "cell_type": "code",
   "execution_count": null,
   "id": "657a5438",
   "metadata": {},
   "outputs": [],
   "source": [
    "car_sales.info()"
   ]
  },
  {
   "cell_type": "code",
   "execution_count": null,
   "id": "06de9604",
   "metadata": {},
   "outputs": [],
   "source": [
    "X = car_sales.drop(\"Price\", axis=1)\n",
    "y = car_sales[\"Price\"]"
   ]
  },
  {
   "cell_type": "code",
   "execution_count": null,
   "id": "217b3bb2",
   "metadata": {},
   "outputs": [],
   "source": [
    "X_train, X_test, y_train, y_test = train_test_split(X, y, test_size=0.2, random_state=42)"
   ]
  },
  {
   "cell_type": "code",
   "execution_count": null,
   "id": "0329a481",
   "metadata": {},
   "outputs": [],
   "source": [
    "from sklearn.ensemble import RandomForestRegressor\n",
    "\n",
    "model = RandomForestRegressor()\n",
    "# model.fit(X_train, y_train) # failed cause toyota is not categorized\n"
   ]
  },
  {
   "cell_type": "code",
   "execution_count": null,
   "id": "8fddd2bc",
   "metadata": {},
   "outputs": [],
   "source": [
    "X.info()"
   ]
  },
  {
   "cell_type": "code",
   "execution_count": null,
   "id": "bb6a5146",
   "metadata": {},
   "outputs": [],
   "source": [
    "from sklearn.preprocessing import OneHotEncoder\n",
    "from sklearn.compose import ColumnTransformer\n",
    "\n",
    "categorical_features = [\"Make\", \"Colour\", \"Doors\"]"
   ]
  },
  {
   "cell_type": "code",
   "execution_count": null,
   "id": "9b0771d7",
   "metadata": {},
   "outputs": [],
   "source": [
    "# one_hot = OneHotEncoder()\n",
    "# transformer = ColumnTransformer([(\"one_hot\", \n",
    "#                                  one_hot, \n",
    "#                                  categorical_features)],\n",
    "#                                  remainder=\"passthrough\")\n",
    "\n",
    "\n",
    "# transformed_X = transformer.fit_transform(X)\n",
    "# transformed_X.head(5)"
   ]
  },
  {
   "cell_type": "code",
   "execution_count": null,
   "id": "6af26188",
   "metadata": {},
   "outputs": [],
   "source": [
    "transformed_X = pd.get_dummies(X, columns=categorical_features, drop_first=True)\n",
    "transformed_X.head(5)"
   ]
  },
  {
   "cell_type": "code",
   "execution_count": null,
   "id": "d05d8a68",
   "metadata": {},
   "outputs": [],
   "source": [
    "X_train, X_test, y_train, y_test = train_test_split(transformed_X, y, test_size=0.2, random_state=42)"
   ]
  },
  {
   "cell_type": "code",
   "execution_count": null,
   "id": "539bb286",
   "metadata": {},
   "outputs": [],
   "source": [
    "model = RandomForestRegressor()\n",
    "model.fit(X_train, y_train) # failed cause toyota is not categorized"
   ]
  },
  {
   "cell_type": "code",
   "execution_count": null,
   "id": "462ed532",
   "metadata": {},
   "outputs": [],
   "source": [
    "model.score(X_test, y_test)"
   ]
  },
  {
   "cell_type": "markdown",
   "id": "546160b3",
   "metadata": {},
   "source": [
    "## What if there were missing values?\n",
    "1. Fill them with some value (also called imputation)\n",
    "2. Remove the samples with missing values altogether"
   ]
  },
  {
   "cell_type": "code",
   "execution_count": null,
   "id": "0f4c8f02",
   "metadata": {},
   "outputs": [],
   "source": [
    "# import car sales missing data\n",
    "\n",
    "car_sales_missing = pd.read_csv(\"/home/rapids/workspace/ML_Course/ztm-ml/data/car-sales-extended-missing-data.csv\")"
   ]
  },
  {
   "cell_type": "code",
   "execution_count": null,
   "id": "2d17c965",
   "metadata": {},
   "outputs": [],
   "source": [
    "car_sales_missing.isna().sum()"
   ]
  },
  {
   "cell_type": "code",
   "execution_count": null,
   "id": "7c68ea90",
   "metadata": {},
   "outputs": [],
   "source": [
    "# lets try convert our data to numeric values\n",
    "X = car_sales_missing.drop(\"Price\", axis=1)\n",
    "y = car_sales_missing[\"Price\"]"
   ]
  },
  {
   "cell_type": "code",
   "execution_count": null,
   "id": "f6a5f0aa",
   "metadata": {},
   "outputs": [],
   "source": [
    "X[X.isna().any(axis=1)]"
   ]
  },
  {
   "cell_type": "code",
   "execution_count": null,
   "id": "d085923c",
   "metadata": {},
   "outputs": [],
   "source": [
    "# Code runs but logis does not work cause of missing data but when this is done the data will be converted to values\n",
    "categorical_features = [\"Make\", \"Colour\", \"Doors\"]\n",
    "transformed_X = pd.get_dummies(X, columns=categorical_features, drop_first=True)\n",
    "transformed_X"
   ]
  },
  {
   "cell_type": "code",
   "execution_count": null,
   "id": "98192684",
   "metadata": {},
   "outputs": [],
   "source": [
    "transformed_X.isna().sum()"
   ]
  },
  {
   "cell_type": "code",
   "execution_count": null,
   "id": "47c84d6a",
   "metadata": {},
   "outputs": [],
   "source": [
    "# Option 1 - Fill missing data with pandas\n",
    "\n",
    "car_sales_missing['Make'].fillna(\"missing\", inplace=True)\n",
    "car_sales_missing['Colour'].fillna(\"missing\", inplace=True)\n",
    "car_sales_missing['Odometer (KM)'].fillna(car_sales_missing['Odometer (KM)'].mean(), inplace=True)\n",
    "car_sales_missing['Doors'].fillna(4, inplace=True)"
   ]
  },
  {
   "cell_type": "code",
   "execution_count": null,
   "id": "3940ef2f",
   "metadata": {},
   "outputs": [],
   "source": [
    "car_sales_missing.isna().sum()"
   ]
  },
  {
   "cell_type": "code",
   "execution_count": null,
   "id": "fbe309c6",
   "metadata": {},
   "outputs": [],
   "source": [
    "# option 2 - drop rows with missing data\n",
    "car_sales_missing.dropna(inplace=True) "
   ]
  },
  {
   "cell_type": "code",
   "execution_count": null,
   "id": "4bfcce85",
   "metadata": {},
   "outputs": [],
   "source": [
    "car_sales_missing.isna().sum()"
   ]
  },
  {
   "cell_type": "code",
   "execution_count": null,
   "id": "ab4751fb",
   "metadata": {},
   "outputs": [],
   "source": [
    "# lets try convert our data to numeric values\n",
    "X = car_sales_missing.drop(\"Price\", axis=1)\n",
    "y = car_sales_missing[\"Price\"]"
   ]
  },
  {
   "cell_type": "code",
   "execution_count": null,
   "id": "95d0b869",
   "metadata": {},
   "outputs": [],
   "source": [
    "# Code runs but logis does not work cause of missing data but when this is done the data will be converted to values\n",
    "categorical_features = [\"Make\", \"Colour\", \"Doors\"]\n",
    "transformed_X = pd.get_dummies(X, columns=categorical_features, drop_first=True)\n",
    "transformed_X"
   ]
  },
  {
   "cell_type": "code",
   "execution_count": null,
   "id": "3dc3e720",
   "metadata": {},
   "outputs": [],
   "source": [
    "X_train, X_test, y_train, y_test = train_test_split(transformed_X, y, test_size=0.2, random_state=42)"
   ]
  },
  {
   "cell_type": "code",
   "execution_count": null,
   "id": "0b00e44e",
   "metadata": {},
   "outputs": [],
   "source": [
    "y_train"
   ]
  },
  {
   "cell_type": "code",
   "execution_count": null,
   "id": "a8c6918a",
   "metadata": {},
   "outputs": [],
   "source": [
    "model = RandomForestRegressor()\n",
    "model.fit(X_train, y_train) # failed cause toyota is not categorized"
   ]
  },
  {
   "cell_type": "code",
   "execution_count": null,
   "id": "c585694f",
   "metadata": {},
   "outputs": [],
   "source": [
    "model.score(X_test, y_test)"
   ]
  },
  {
   "cell_type": "code",
   "execution_count": null,
   "id": "4382306d",
   "metadata": {},
   "outputs": [],
   "source": []
  }
 ],
 "metadata": {
  "kernelspec": {
   "display_name": "base",
   "language": "python",
   "name": "python3"
  },
  "language_info": {
   "codemirror_mode": {
    "name": "ipython",
    "version": 3
   },
   "file_extension": ".py",
   "mimetype": "text/x-python",
   "name": "python",
   "nbconvert_exporter": "python",
   "pygments_lexer": "ipython3",
   "version": "3.13.5"
  }
 },
 "nbformat": 4,
 "nbformat_minor": 5
}
